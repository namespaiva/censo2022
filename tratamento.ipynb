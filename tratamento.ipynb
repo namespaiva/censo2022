{
 "cells": [
  {
   "cell_type": "code",
   "execution_count": 1,
   "id": "95442f16",
   "metadata": {},
   "outputs": [],
   "source": [
    "import pandas as pd \n",
    "import numpy as np \n",
    "import psycopg"
   ]
  },
  {
   "cell_type": "code",
   "execution_count": null,
   "id": "892c96b6",
   "metadata": {},
   "outputs": [
    {
     "data": {
      "text/plain": [
       "((1048, 29),\n",
       " Index(['CD_SETOR', 'SITUACAO', 'CD_SIT', 'CD_TIPO', 'AREA_KM2', 'CD_REGIAO',\n",
       "        'NM_REGIAO', 'CD_UF', 'NM_UF', 'CD_MUN', 'NM_MUN', 'CD_DIST', 'NM_DIST',\n",
       "        'CD_SUBDIST', 'NM_SUBDIST', 'CD_BAIRRO', 'NM_BAIRRO', 'CD_NU', 'NM_NU',\n",
       "        'CD_FCU', 'NM_FCU', 'CD_AGLOM', 'NM_AGLOM', 'CD_RGINT', 'NM_RGINT',\n",
       "        'CD_RGI', 'NM_RGI', 'CD_CONCURB', 'NM_CONCURB'],\n",
       "       dtype='object'))"
      ]
     },
     "execution_count": 2,
     "metadata": {},
     "output_type": "execute_result"
    }
   ],
   "source": [
    "data_setores = pd.read_csv('dados/setores.csv')\n",
    "data_setores = data_setores.drop(columns=['id'])\n",
    "data_setores = data_setores[data_setores['NM_MUN'] == 'Santos']\n",
    "\n",
    "data_setores.shape, data_setores.columns"
   ]
  },
  {
   "cell_type": "markdown",
   "id": "fbcc9244",
   "metadata": {},
   "source": [
    "## Datasets de setor censitário\n",
    "\n",
    "Tratando os dados para serem alimentados a suas respectivas tabelas no banco do Postgres."
   ]
  },
  {
   "cell_type": "code",
   "execution_count": null,
   "id": "753de431",
   "metadata": {},
   "outputs": [],
   "source": [
    "setores = data_setores.drop(columns=['SITUACAO', 'CD_REGIAO',\n",
    "        'NM_REGIAO', 'CD_UF', 'NM_UF', 'CD_MUN', 'NM_MUN', 'CD_DIST', 'NM_DIST',\n",
    "        'CD_SUBDIST', 'NM_SUBDIST', 'NM_BAIRRO', 'NM_NU', 'NM_FCU', 'NM_AGLOM', 'CD_RGINT', 'NM_RGINT',\n",
    "        'CD_RGI', 'NM_RGI', 'CD_CONCURB', 'NM_CONCURB'])\n",
    "\n",
    "setores['CD_BAIRRO'] = setores['CD_BAIRRO'].astype(int, errors='ignore')\n",
    "setores.drop_duplicates(subset=['CD_SETOR'], inplace=True)\n"
   ]
  },
  {
   "cell_type": "code",
   "execution_count": null,
   "id": "8eb6cc58",
   "metadata": {},
   "outputs": [],
   "source": [
    "setores.to_csv('dados/setores_santos.csv', index=False)"
   ]
  },
  {
   "cell_type": "code",
   "execution_count": null,
   "id": "4c20a314",
   "metadata": {},
   "outputs": [],
   "source": [
    "# Dropando colunas desnecessárias para cada coluna do BD\n",
    "situacao_setores = data_setores.drop(columns=['CD_SETOR', 'CD_TIPO', 'AREA_KM2', 'CD_REGIAO',\n",
    "        'NM_REGIAO', 'CD_UF', 'NM_UF', 'CD_MUN', 'NM_MUN', 'CD_DIST', 'NM_DIST',\n",
    "        'CD_SUBDIST', 'NM_SUBDIST', 'CD_BAIRRO', 'NM_BAIRRO', 'CD_NU', 'NM_NU',\n",
    "        'CD_FCU', 'NM_FCU', 'CD_AGLOM', 'NM_AGLOM', 'CD_RGINT', 'NM_RGINT',\n",
    "        'CD_RGI', 'NM_RGI', 'CD_CONCURB', 'NM_CONCURB'])\n",
    "\n",
    "tipo_setores = data_setores.drop(columns=['CD_SETOR', 'SITUACAO', 'CD_SIT', 'AREA_KM2', 'CD_REGIAO',\n",
    "        'NM_REGIAO', 'CD_UF', 'NM_UF', 'CD_MUN', 'NM_MUN', 'CD_DIST', 'NM_DIST',\n",
    "        'CD_SUBDIST', 'NM_SUBDIST', 'CD_BAIRRO', 'NM_BAIRRO', 'CD_NU', 'NM_NU',\n",
    "        'CD_FCU', 'NM_FCU', 'CD_AGLOM', 'NM_AGLOM', 'CD_RGINT', 'NM_RGINT',\n",
    "        'CD_RGI', 'NM_RGI', 'CD_CONCURB', 'NM_CONCURB'])\n",
    "\n",
    "bairro_setores = data_setores.drop(columns=['CD_SETOR', 'SITUACAO', 'CD_SIT', 'CD_TIPO', 'AREA_KM2', 'CD_REGIAO',\n",
    "        'NM_REGIAO', 'CD_UF', 'NM_UF', 'CD_MUN', 'NM_MUN', 'CD_DIST', 'NM_DIST',\n",
    "        'CD_SUBDIST', 'NM_SUBDIST', 'CD_NU', 'NM_NU',\n",
    "        'CD_FCU', 'NM_FCU', 'CD_AGLOM', 'NM_AGLOM', 'CD_RGINT', 'NM_RGINT',\n",
    "        'CD_RGI', 'NM_RGI', 'CD_CONCURB', 'NM_CONCURB'])\n",
    "\n",
    "nucleo_setores = data_setores.drop(columns=['CD_SETOR', 'SITUACAO', 'CD_SIT', 'CD_TIPO', 'AREA_KM2', 'CD_REGIAO',\n",
    "        'NM_REGIAO', 'CD_UF', 'NM_UF', 'CD_MUN', 'NM_MUN', 'CD_DIST', 'NM_DIST',\n",
    "        'CD_SUBDIST', 'NM_SUBDIST', 'CD_BAIRRO', 'NM_BAIRRO',\n",
    "        'CD_FCU', 'NM_FCU', 'CD_AGLOM', 'NM_AGLOM', 'CD_RGINT', 'NM_RGINT',\n",
    "        'CD_RGI', 'NM_RGI', 'CD_CONCURB', 'NM_CONCURB'])\n",
    "\n",
    "fcu_setores = data_setores.drop(columns=['CD_SETOR', 'SITUACAO', 'CD_SIT', 'CD_TIPO', 'AREA_KM2', 'CD_REGIAO',\n",
    "        'NM_REGIAO', 'CD_UF', 'NM_UF', 'CD_MUN', 'NM_MUN', 'CD_DIST', 'NM_DIST',\n",
    "        'CD_SUBDIST', 'NM_SUBDIST', 'CD_BAIRRO', 'NM_BAIRRO', 'CD_NU', 'NM_NU', \n",
    "        'CD_AGLOM', 'NM_AGLOM', 'CD_RGINT', 'NM_RGINT',\n",
    "        'CD_RGI', 'NM_RGI', 'CD_CONCURB', 'NM_CONCURB'])\n",
    "\n",
    "aglom_setores = data_setores.drop(columns=['CD_SETOR', 'SITUACAO', 'CD_SIT', 'CD_TIPO', 'AREA_KM2', 'CD_REGIAO',\n",
    "        'NM_REGIAO', 'CD_UF', 'NM_UF', 'CD_MUN', 'NM_MUN', 'CD_DIST', 'NM_DIST',\n",
    "        'CD_SUBDIST', 'NM_SUBDIST', 'CD_BAIRRO', 'NM_BAIRRO', 'CD_NU', 'NM_NU',\n",
    "        'CD_FCU', 'NM_FCU', 'CD_RGINT', 'NM_RGINT',\n",
    "        'CD_RGI', 'NM_RGI', 'CD_CONCURB', 'NM_CONCURB'])"
   ]
  },
  {
   "cell_type": "code",
   "execution_count": null,
   "id": "a5031569",
   "metadata": {},
   "outputs": [
    {
     "data": {
      "text/plain": [
       "array([1, 2, 9, 5, 8, 3])"
      ]
     },
     "execution_count": 45,
     "metadata": {},
     "output_type": "execute_result"
    }
   ],
   "source": [
    "situacao_setores['CD_SIT'].unique()"
   ]
  },
  {
   "cell_type": "code",
   "execution_count": null,
   "id": "b35001d0",
   "metadata": {},
   "outputs": [
    {
     "name": "stderr",
     "output_type": "stream",
     "text": [
      "/tmp/ipykernel_5510/4084252003.py:2: FutureWarning: ChainedAssignmentError: behaviour will change in pandas 3.0!\n",
      "You are setting values through chained assignment. Currently this works in certain cases, but when using Copy-on-Write (which will become the default behaviour in pandas 3.0) this will never work to update the original DataFrame or Series, because the intermediate object on which we are setting values will behave as a copy.\n",
      "A typical example is when you are setting values in a column of a DataFrame, like:\n",
      "\n",
      "df[\"col\"][row_indexer] = value\n",
      "\n",
      "Use `df.loc[row_indexer, \"col\"] = values` instead, to perform the assignment in a single step and ensure this keeps updating the original `df`.\n",
      "\n",
      "See the caveats in the documentation: https://pandas.pydata.org/pandas-docs/stable/user_guide/indexing.html#returning-a-view-versus-a-copy\n",
      "\n",
      "  situacao_setores['SITUACAO'][situacao_setores['CD_SIT'] == 1] = 'Área urbana de alta densidade de edificações de cidade ou vila'\n",
      "/tmp/ipykernel_5510/4084252003.py:2: SettingWithCopyWarning: \n",
      "A value is trying to be set on a copy of a slice from a DataFrame\n",
      "\n",
      "See the caveats in the documentation: https://pandas.pydata.org/pandas-docs/stable/user_guide/indexing.html#returning-a-view-versus-a-copy\n",
      "  situacao_setores['SITUACAO'][situacao_setores['CD_SIT'] == 1] = 'Área urbana de alta densidade de edificações de cidade ou vila'\n",
      "/tmp/ipykernel_5510/4084252003.py:3: FutureWarning: ChainedAssignmentError: behaviour will change in pandas 3.0!\n",
      "You are setting values through chained assignment. Currently this works in certain cases, but when using Copy-on-Write (which will become the default behaviour in pandas 3.0) this will never work to update the original DataFrame or Series, because the intermediate object on which we are setting values will behave as a copy.\n",
      "A typical example is when you are setting values in a column of a DataFrame, like:\n",
      "\n",
      "df[\"col\"][row_indexer] = value\n",
      "\n",
      "Use `df.loc[row_indexer, \"col\"] = values` instead, to perform the assignment in a single step and ensure this keeps updating the original `df`.\n",
      "\n",
      "See the caveats in the documentation: https://pandas.pydata.org/pandas-docs/stable/user_guide/indexing.html#returning-a-view-versus-a-copy\n",
      "\n",
      "  situacao_setores['SITUACAO'][situacao_setores['CD_SIT'] == 2] = 'Área urbana de baixa densidade de edificações de cidade ou vila'\n",
      "/tmp/ipykernel_5510/4084252003.py:3: SettingWithCopyWarning: \n",
      "A value is trying to be set on a copy of a slice from a DataFrame\n",
      "\n",
      "See the caveats in the documentation: https://pandas.pydata.org/pandas-docs/stable/user_guide/indexing.html#returning-a-view-versus-a-copy\n",
      "  situacao_setores['SITUACAO'][situacao_setores['CD_SIT'] == 2] = 'Área urbana de baixa densidade de edificações de cidade ou vila'\n",
      "/tmp/ipykernel_5510/4084252003.py:4: FutureWarning: ChainedAssignmentError: behaviour will change in pandas 3.0!\n",
      "You are setting values through chained assignment. Currently this works in certain cases, but when using Copy-on-Write (which will become the default behaviour in pandas 3.0) this will never work to update the original DataFrame or Series, because the intermediate object on which we are setting values will behave as a copy.\n",
      "A typical example is when you are setting values in a column of a DataFrame, like:\n",
      "\n",
      "df[\"col\"][row_indexer] = value\n",
      "\n",
      "Use `df.loc[row_indexer, \"col\"] = values` instead, to perform the assignment in a single step and ensure this keeps updating the original `df`.\n",
      "\n",
      "See the caveats in the documentation: https://pandas.pydata.org/pandas-docs/stable/user_guide/indexing.html#returning-a-view-versus-a-copy\n",
      "\n",
      "  situacao_setores['SITUACAO'][situacao_setores['CD_SIT'] == 3] = 'Núcleo urbano'\n",
      "/tmp/ipykernel_5510/4084252003.py:4: SettingWithCopyWarning: \n",
      "A value is trying to be set on a copy of a slice from a DataFrame\n",
      "\n",
      "See the caveats in the documentation: https://pandas.pydata.org/pandas-docs/stable/user_guide/indexing.html#returning-a-view-versus-a-copy\n",
      "  situacao_setores['SITUACAO'][situacao_setores['CD_SIT'] == 3] = 'Núcleo urbano'\n",
      "/tmp/ipykernel_5510/4084252003.py:5: FutureWarning: ChainedAssignmentError: behaviour will change in pandas 3.0!\n",
      "You are setting values through chained assignment. Currently this works in certain cases, but when using Copy-on-Write (which will become the default behaviour in pandas 3.0) this will never work to update the original DataFrame or Series, because the intermediate object on which we are setting values will behave as a copy.\n",
      "A typical example is when you are setting values in a column of a DataFrame, like:\n",
      "\n",
      "df[\"col\"][row_indexer] = value\n",
      "\n",
      "Use `df.loc[row_indexer, \"col\"] = values` instead, to perform the assignment in a single step and ensure this keeps updating the original `df`.\n",
      "\n",
      "See the caveats in the documentation: https://pandas.pydata.org/pandas-docs/stable/user_guide/indexing.html#returning-a-view-versus-a-copy\n",
      "\n",
      "  situacao_setores['SITUACAO'][situacao_setores['CD_SIT'] == 5] = 'Aglomerado rural - Povoado'\n",
      "/tmp/ipykernel_5510/4084252003.py:5: SettingWithCopyWarning: \n",
      "A value is trying to be set on a copy of a slice from a DataFrame\n",
      "\n",
      "See the caveats in the documentation: https://pandas.pydata.org/pandas-docs/stable/user_guide/indexing.html#returning-a-view-versus-a-copy\n",
      "  situacao_setores['SITUACAO'][situacao_setores['CD_SIT'] == 5] = 'Aglomerado rural - Povoado'\n",
      "/tmp/ipykernel_5510/4084252003.py:6: FutureWarning: ChainedAssignmentError: behaviour will change in pandas 3.0!\n",
      "You are setting values through chained assignment. Currently this works in certain cases, but when using Copy-on-Write (which will become the default behaviour in pandas 3.0) this will never work to update the original DataFrame or Series, because the intermediate object on which we are setting values will behave as a copy.\n",
      "A typical example is when you are setting values in a column of a DataFrame, like:\n",
      "\n",
      "df[\"col\"][row_indexer] = value\n",
      "\n",
      "Use `df.loc[row_indexer, \"col\"] = values` instead, to perform the assignment in a single step and ensure this keeps updating the original `df`.\n",
      "\n",
      "See the caveats in the documentation: https://pandas.pydata.org/pandas-docs/stable/user_guide/indexing.html#returning-a-view-versus-a-copy\n",
      "\n",
      "  situacao_setores['SITUACAO'][situacao_setores['CD_SIT'] == 8] = 'Área rural (exclusive aglomerados)'\n",
      "/tmp/ipykernel_5510/4084252003.py:6: SettingWithCopyWarning: \n",
      "A value is trying to be set on a copy of a slice from a DataFrame\n",
      "\n",
      "See the caveats in the documentation: https://pandas.pydata.org/pandas-docs/stable/user_guide/indexing.html#returning-a-view-versus-a-copy\n",
      "  situacao_setores['SITUACAO'][situacao_setores['CD_SIT'] == 8] = 'Área rural (exclusive aglomerados)'\n",
      "/tmp/ipykernel_5510/4084252003.py:7: FutureWarning: ChainedAssignmentError: behaviour will change in pandas 3.0!\n",
      "You are setting values through chained assignment. Currently this works in certain cases, but when using Copy-on-Write (which will become the default behaviour in pandas 3.0) this will never work to update the original DataFrame or Series, because the intermediate object on which we are setting values will behave as a copy.\n",
      "A typical example is when you are setting values in a column of a DataFrame, like:\n",
      "\n",
      "df[\"col\"][row_indexer] = value\n",
      "\n",
      "Use `df.loc[row_indexer, \"col\"] = values` instead, to perform the assignment in a single step and ensure this keeps updating the original `df`.\n",
      "\n",
      "See the caveats in the documentation: https://pandas.pydata.org/pandas-docs/stable/user_guide/indexing.html#returning-a-view-versus-a-copy\n",
      "\n",
      "  situacao_setores['SITUACAO'][situacao_setores['CD_SIT'] == 9] = 'Massas de água'\n",
      "/tmp/ipykernel_5510/4084252003.py:7: SettingWithCopyWarning: \n",
      "A value is trying to be set on a copy of a slice from a DataFrame\n",
      "\n",
      "See the caveats in the documentation: https://pandas.pydata.org/pandas-docs/stable/user_guide/indexing.html#returning-a-view-versus-a-copy\n",
      "  situacao_setores['SITUACAO'][situacao_setores['CD_SIT'] == 9] = 'Massas de água'\n"
     ]
    }
   ],
   "source": [
    "situacao_setores.drop_duplicates(subset=['CD_SIT'], inplace=True)\n",
    "situacao_setores['SITUACAO'][situacao_setores['CD_SIT'] == 1] = 'Área urbana de alta densidade de edificações de cidade ou vila'\n",
    "situacao_setores['SITUACAO'][situacao_setores['CD_SIT'] == 2] = 'Área urbana de baixa densidade de edificações de cidade ou vila'\n",
    "situacao_setores['SITUACAO'][situacao_setores['CD_SIT'] == 3] = 'Núcleo urbano'\n",
    "situacao_setores['SITUACAO'][situacao_setores['CD_SIT'] == 5] = 'Aglomerado rural - Povoado'\n",
    "situacao_setores['SITUACAO'][situacao_setores['CD_SIT'] == 8] = 'Área rural (exclusive aglomerados)'\n",
    "situacao_setores['SITUACAO'][situacao_setores['CD_SIT'] == 9] = 'Massas de água'\n",
    "situacao_setores.to_csv('dados/situacao_setores.csv', index=False)"
   ]
  },
  {
   "cell_type": "code",
   "execution_count": null,
   "id": "147469e9",
   "metadata": {},
   "outputs": [
    {
     "name": "stderr",
     "output_type": "stream",
     "text": [
      "/tmp/ipykernel_5510/531277532.py:3: FutureWarning: ChainedAssignmentError: behaviour will change in pandas 3.0!\n",
      "You are setting values through chained assignment. Currently this works in certain cases, but when using Copy-on-Write (which will become the default behaviour in pandas 3.0) this will never work to update the original DataFrame or Series, because the intermediate object on which we are setting values will behave as a copy.\n",
      "A typical example is when you are setting values in a column of a DataFrame, like:\n",
      "\n",
      "df[\"col\"][row_indexer] = value\n",
      "\n",
      "Use `df.loc[row_indexer, \"col\"] = values` instead, to perform the assignment in a single step and ensure this keeps updating the original `df`.\n",
      "\n",
      "See the caveats in the documentation: https://pandas.pydata.org/pandas-docs/stable/user_guide/indexing.html#returning-a-view-versus-a-copy\n",
      "\n",
      "  tipo_setores['NM_TIPO'][tipo_setores['CD_TIPO'] == 0] = 'Não especial'\n",
      "/tmp/ipykernel_5510/531277532.py:3: SettingWithCopyWarning: \n",
      "A value is trying to be set on a copy of a slice from a DataFrame\n",
      "\n",
      "See the caveats in the documentation: https://pandas.pydata.org/pandas-docs/stable/user_guide/indexing.html#returning-a-view-versus-a-copy\n",
      "  tipo_setores['NM_TIPO'][tipo_setores['CD_TIPO'] == 0] = 'Não especial'\n",
      "/tmp/ipykernel_5510/531277532.py:4: FutureWarning: ChainedAssignmentError: behaviour will change in pandas 3.0!\n",
      "You are setting values through chained assignment. Currently this works in certain cases, but when using Copy-on-Write (which will become the default behaviour in pandas 3.0) this will never work to update the original DataFrame or Series, because the intermediate object on which we are setting values will behave as a copy.\n",
      "A typical example is when you are setting values in a column of a DataFrame, like:\n",
      "\n",
      "df[\"col\"][row_indexer] = value\n",
      "\n",
      "Use `df.loc[row_indexer, \"col\"] = values` instead, to perform the assignment in a single step and ensure this keeps updating the original `df`.\n",
      "\n",
      "See the caveats in the documentation: https://pandas.pydata.org/pandas-docs/stable/user_guide/indexing.html#returning-a-view-versus-a-copy\n",
      "\n",
      "  tipo_setores['NM_TIPO'][tipo_setores['CD_TIPO'] == 1] = 'Favela e Comunidade Urbana'\n",
      "/tmp/ipykernel_5510/531277532.py:4: SettingWithCopyWarning: \n",
      "A value is trying to be set on a copy of a slice from a DataFrame\n",
      "\n",
      "See the caveats in the documentation: https://pandas.pydata.org/pandas-docs/stable/user_guide/indexing.html#returning-a-view-versus-a-copy\n",
      "  tipo_setores['NM_TIPO'][tipo_setores['CD_TIPO'] == 1] = 'Favela e Comunidade Urbana'\n",
      "/tmp/ipykernel_5510/531277532.py:5: FutureWarning: ChainedAssignmentError: behaviour will change in pandas 3.0!\n",
      "You are setting values through chained assignment. Currently this works in certain cases, but when using Copy-on-Write (which will become the default behaviour in pandas 3.0) this will never work to update the original DataFrame or Series, because the intermediate object on which we are setting values will behave as a copy.\n",
      "A typical example is when you are setting values in a column of a DataFrame, like:\n",
      "\n",
      "df[\"col\"][row_indexer] = value\n",
      "\n",
      "Use `df.loc[row_indexer, \"col\"] = values` instead, to perform the assignment in a single step and ensure this keeps updating the original `df`.\n",
      "\n",
      "See the caveats in the documentation: https://pandas.pydata.org/pandas-docs/stable/user_guide/indexing.html#returning-a-view-versus-a-copy\n",
      "\n",
      "  tipo_setores['NM_TIPO'][tipo_setores['CD_TIPO'] == 4] = 'Setor com baixo patamar domiciliar'\n",
      "/tmp/ipykernel_5510/531277532.py:5: SettingWithCopyWarning: \n",
      "A value is trying to be set on a copy of a slice from a DataFrame\n",
      "\n",
      "See the caveats in the documentation: https://pandas.pydata.org/pandas-docs/stable/user_guide/indexing.html#returning-a-view-versus-a-copy\n",
      "  tipo_setores['NM_TIPO'][tipo_setores['CD_TIPO'] == 4] = 'Setor com baixo patamar domiciliar'\n",
      "/tmp/ipykernel_5510/531277532.py:6: FutureWarning: ChainedAssignmentError: behaviour will change in pandas 3.0!\n",
      "You are setting values through chained assignment. Currently this works in certain cases, but when using Copy-on-Write (which will become the default behaviour in pandas 3.0) this will never work to update the original DataFrame or Series, because the intermediate object on which we are setting values will behave as a copy.\n",
      "A typical example is when you are setting values in a column of a DataFrame, like:\n",
      "\n",
      "df[\"col\"][row_indexer] = value\n",
      "\n",
      "Use `df.loc[row_indexer, \"col\"] = values` instead, to perform the assignment in a single step and ensure this keeps updating the original `df`.\n",
      "\n",
      "See the caveats in the documentation: https://pandas.pydata.org/pandas-docs/stable/user_guide/indexing.html#returning-a-view-versus-a-copy\n",
      "\n",
      "  tipo_setores['NM_TIPO'][tipo_setores['CD_TIPO'] == 7] = 'Convento / Hospital / ILPI / IACA'\n",
      "/tmp/ipykernel_5510/531277532.py:6: SettingWithCopyWarning: \n",
      "A value is trying to be set on a copy of a slice from a DataFrame\n",
      "\n",
      "See the caveats in the documentation: https://pandas.pydata.org/pandas-docs/stable/user_guide/indexing.html#returning-a-view-versus-a-copy\n",
      "  tipo_setores['NM_TIPO'][tipo_setores['CD_TIPO'] == 7] = 'Convento / Hospital / ILPI / IACA'\n"
     ]
    }
   ],
   "source": [
    "tipo_setores.drop_duplicates(subset=['CD_TIPO'], inplace=True)\n",
    "tipo_setores['NM_TIPO'] = ''\n",
    "tipo_setores['NM_TIPO'][tipo_setores['CD_TIPO'] == 0] = 'Não especial'\n",
    "tipo_setores['NM_TIPO'][tipo_setores['CD_TIPO'] == 1] = 'Favela e Comunidade Urbana'\n",
    "tipo_setores['NM_TIPO'][tipo_setores['CD_TIPO'] == 4] = 'Setor com baixo patamar domiciliar'\n",
    "tipo_setores['NM_TIPO'][tipo_setores['CD_TIPO'] == 7] = 'Convento / Hospital / ILPI / IACA'\n",
    "tipo_setores.to_csv('dados/tipo_setores.csv', index=False)"
   ]
  },
  {
   "cell_type": "code",
   "execution_count": null,
   "id": "45b5efe3",
   "metadata": {},
   "outputs": [
    {
     "data": {
      "application/vnd.microsoft.datawrangler.viewer.v0+json": {
       "columns": [
        {
         "name": "index",
         "rawType": "int64",
         "type": "integer"
        },
        {
         "name": "CD_TIPO",
         "rawType": "int64",
         "type": "integer"
        },
        {
         "name": "NM_TIPO",
         "rawType": "object",
         "type": "string"
        }
       ],
       "ref": "ee7c7b09-dc74-4687-a987-47f71df226df",
       "rows": [
        [
         "59893",
         "0",
         "Não especial"
        ],
        [
         "59895",
         "4",
         "Setor com baixo patamar domiciliar"
        ],
        [
         "59905",
         "1",
         "Favela e Comunidade Urbana"
        ],
        [
         "60232",
         "7",
         "Convento / Hospital / ILPI / IACA"
        ]
       ],
       "shape": {
        "columns": 2,
        "rows": 4
       }
      },
      "text/html": [
       "<div>\n",
       "<style scoped>\n",
       "    .dataframe tbody tr th:only-of-type {\n",
       "        vertical-align: middle;\n",
       "    }\n",
       "\n",
       "    .dataframe tbody tr th {\n",
       "        vertical-align: top;\n",
       "    }\n",
       "\n",
       "    .dataframe thead th {\n",
       "        text-align: right;\n",
       "    }\n",
       "</style>\n",
       "<table border=\"1\" class=\"dataframe\">\n",
       "  <thead>\n",
       "    <tr style=\"text-align: right;\">\n",
       "      <th></th>\n",
       "      <th>CD_TIPO</th>\n",
       "      <th>NM_TIPO</th>\n",
       "    </tr>\n",
       "  </thead>\n",
       "  <tbody>\n",
       "    <tr>\n",
       "      <th>59893</th>\n",
       "      <td>0</td>\n",
       "      <td>Não especial</td>\n",
       "    </tr>\n",
       "    <tr>\n",
       "      <th>59895</th>\n",
       "      <td>4</td>\n",
       "      <td>Setor com baixo patamar domiciliar</td>\n",
       "    </tr>\n",
       "    <tr>\n",
       "      <th>59905</th>\n",
       "      <td>1</td>\n",
       "      <td>Favela e Comunidade Urbana</td>\n",
       "    </tr>\n",
       "    <tr>\n",
       "      <th>60232</th>\n",
       "      <td>7</td>\n",
       "      <td>Convento / Hospital / ILPI / IACA</td>\n",
       "    </tr>\n",
       "  </tbody>\n",
       "</table>\n",
       "</div>"
      ],
      "text/plain": [
       "       CD_TIPO                             NM_TIPO\n",
       "59893        0                        Não especial\n",
       "59895        4  Setor com baixo patamar domiciliar\n",
       "59905        1          Favela e Comunidade Urbana\n",
       "60232        7   Convento / Hospital / ILPI / IACA"
      ]
     },
     "execution_count": 48,
     "metadata": {},
     "output_type": "execute_result"
    }
   ],
   "source": [
    "tipo_setores.head()"
   ]
  },
  {
   "cell_type": "code",
   "execution_count": null,
   "id": "1905b8c9",
   "metadata": {},
   "outputs": [],
   "source": [
    "bairro_setores.drop_duplicates(subset=['CD_BAIRRO'], inplace=True)\n",
    "bairro_setores.dropna(subset=['CD_BAIRRO'], inplace=True)\n",
    "bairro_setores.to_csv('dados/bairro_setores.csv', index=False)"
   ]
  },
  {
   "cell_type": "code",
   "execution_count": null,
   "id": "7d85f16d",
   "metadata": {},
   "outputs": [],
   "source": [
    "nucleo_setores.drop_duplicates(subset=['CD_NU'], inplace=True)\n",
    "nucleo_setores.dropna(subset=['CD_NU'], inplace=True)\n",
    "nucleo_setores.to_csv('dados/nucleo_setores.csv', index=False)"
   ]
  },
  {
   "cell_type": "code",
   "execution_count": null,
   "id": "4fdd80a3",
   "metadata": {},
   "outputs": [],
   "source": [
    "fcu_setores.drop_duplicates(subset=['CD_FCU'], inplace=True)\n",
    "fcu_setores.dropna(subset=['CD_FCU'], inplace=True)\n",
    "fcu_setores.to_csv('dados/fcu_setores.csv', index=False)"
   ]
  },
  {
   "cell_type": "code",
   "execution_count": null,
   "id": "22b2eb1a",
   "metadata": {},
   "outputs": [],
   "source": [
    "aglom_setores.drop_duplicates(subset=['CD_AGLOM'], inplace=True)\n",
    "aglom_setores.dropna(subset=['CD_AGLOM'], inplace=True)\n",
    "aglom_setores.to_csv('dados/aglom_setores.csv', index=False)"
   ]
  },
  {
   "cell_type": "markdown",
   "id": "0ed95297",
   "metadata": {},
   "source": [
    "## Dataset de populacao\n",
    "Especificamente para a tabela de população."
   ]
  },
  {
   "cell_type": "code",
   "execution_count": 33,
   "id": "ff6ce516",
   "metadata": {},
   "outputs": [
    {
     "data": {
      "text/plain": [
       "((354965, 14),\n",
       " Index(['CD_SETOR', 'CD_SIT', 'CD_TIPO', 'v0001', 'v0002', 'v0003', 'v0004',\n",
       "        'v0005', 'v0006', 'v0007', 'AREA_DOMICILIADA_KM2', 'AREA_KM2',\n",
       "        'DENSIDADE_DEMOGRAFICA_DOMICILIADA_HAB_KM2',\n",
       "        'DENSIDADE_DEMOGRAFICA_SETOR_HAB_KM2'],\n",
       "       dtype='object'))"
      ]
     },
     "execution_count": 33,
     "metadata": {},
     "output_type": "execute_result"
    }
   ],
   "source": [
    "data_pop = pd.read_csv('dados/populacao.csv')\n",
    "\n",
    "data_pop.shape, data_pop.columns"
   ]
  },
  {
   "cell_type": "code",
   "execution_count": 35,
   "id": "ab7dd4f3",
   "metadata": {},
   "outputs": [],
   "source": [
    "data_pop.rename(columns={\n",
    "    'v0001': 'TOTAL_PESSOAS', \n",
    "    'v0002': 'TOTAL_DOMICILIOS',\n",
    "    'v0003': 'TOTAL_DOMICILIOS_PARTICULARES',\n",
    "    'v0004': 'TOTAL_DOMICILIOS_COLETIVOS',\n",
    "    'v0005': 'MEDIA_MORADORES_DOM_PART_OCUPADOS',\n",
    "    'v0006': 'PERCENT_DOM_PART_OCUPADOS_IMPUTADOS',\n",
    "    'v0007': 'TOTAL_DOMICILIOS_PART_OCUPADOS',\n",
    "}, inplace=True)"
   ]
  },
  {
   "cell_type": "code",
   "execution_count": 36,
   "id": "19553d92",
   "metadata": {},
   "outputs": [],
   "source": [
    "data_pop = data_pop.drop(columns=['CD_SIT', 'CD_TIPO', 'AREA_KM2'])"
   ]
  },
  {
   "cell_type": "code",
   "execution_count": 38,
   "id": "f54715b9",
   "metadata": {},
   "outputs": [],
   "source": [
    "data_pop = data_pop[data_pop['CD_SETOR'].isin(data_setores['CD_SETOR'])]"
   ]
  },
  {
   "cell_type": "code",
   "execution_count": 39,
   "id": "7cb0a55c",
   "metadata": {},
   "outputs": [
    {
     "data": {
      "application/vnd.microsoft.datawrangler.viewer.v0+json": {
       "columns": [
        {
         "name": "index",
         "rawType": "int64",
         "type": "integer"
        },
        {
         "name": "CD_SETOR",
         "rawType": "int64",
         "type": "integer"
        },
        {
         "name": "TOTAL_PESSOAS",
         "rawType": "int64",
         "type": "integer"
        },
        {
         "name": "TOTAL_DOMICILIOS",
         "rawType": "int64",
         "type": "integer"
        },
        {
         "name": "TOTAL_DOMICILIOS_PARTICULARES",
         "rawType": "int64",
         "type": "integer"
        },
        {
         "name": "TOTAL_DOMICILIOS_COLETIVOS",
         "rawType": "int64",
         "type": "integer"
        },
        {
         "name": "MEDIA_MORADORES_DOM_PART_OCUPADOS",
         "rawType": "object",
         "type": "string"
        },
        {
         "name": "PERCENT_DOM_PART_OCUPADOS_IMPUTADOS",
         "rawType": "object",
         "type": "string"
        },
        {
         "name": "TOTAL_DOMICILIOS_PART_OCUPADOS",
         "rawType": "int64",
         "type": "integer"
        },
        {
         "name": "AREA_DOMICILIADA_KM2",
         "rawType": "object",
         "type": "string"
        },
        {
         "name": "DENSIDADE_DEMOGRAFICA_DOMICILIADA_HAB_KM2",
         "rawType": "object",
         "type": "unknown"
        },
        {
         "name": "DENSIDADE_DEMOGRAFICA_SETOR_HAB_KM2",
         "rawType": "object",
         "type": "string"
        }
       ],
       "ref": "3b64aec4-e7be-47f0-b226-7e6efa903b18",
       "rows": [
        [
         "39",
         "354850005000608",
         "19",
         "1",
         "0",
         "1",
         "0,0",
         "0,0000",
         "0",
         "0,000536300719085",
         "35427,8846249107",
         "35427,8846249107"
        ],
        [
         "191",
         "354850005001269",
         "250",
         "272",
         "272",
         "0",
         "1,7",
         "0,1000",
         "150",
         "0,001636040257139",
         "152807,975787334",
         "152807,975787334"
        ],
        [
         "259",
         "354850005000925",
         "143",
         "113",
         "113",
         "0",
         "1,9",
         "0,0135",
         "74",
         "0,001616583817133",
         "88458,1414736722",
         "88458,1414736722"
        ],
        [
         "331",
         "354850005000673",
         "229",
         "156",
         "156",
         "0",
         "2,0",
         "0,0614",
         "114",
         "0,001926446114673",
         "118871,739134459",
         "118871,739134459"
        ],
        [
         "373",
         "354850005000908",
         "163",
         "194",
         "194",
         "0",
         "1,9",
         "0,0115",
         "87",
         "0,002276107717276",
         "71613,4824212428",
         "71613,4824212428"
        ],
        [
         "501",
         "354850005001030",
         "241",
         "127",
         "127",
         "0",
         "2,1",
         "0,1565",
         "115",
         "0,001707431986478",
         "141147,642722286",
         "141147,642722286"
        ],
        [
         "504",
         "354850005000836",
         "172",
         "170",
         "170",
         "0",
         "1,8",
         "0,1237",
         "97",
         "0,002566149876114",
         "67026,4825920709",
         "67026,4825920709"
        ],
        [
         "548",
         "354850005000707",
         "255",
         "240",
         "240",
         "0",
         "1,8",
         "0,1042",
         "144",
         "0,002566274173639",
         "99365,8443121094",
         "99365,8443121094"
        ],
        [
         "714",
         "354850005000981",
         "132",
         "228",
         "228",
         "0",
         "2,0",
         "0,0923",
         "65",
         "0,003195901263404",
         "41302,9030375628",
         "41302,9030375628"
        ],
        [
         "816",
         "354850005000686",
         "349",
         "151",
         "151",
         "0",
         "2,5",
         "0,3165",
         "139",
         "0,002317228806525",
         "150610,936225747",
         "150610,936225747"
        ],
        [
         "847",
         "354850005000853",
         "219",
         "154",
         "154",
         "0",
         "2,0",
         "0,1111",
         "108",
         "0,003276163857337",
         "66846,4733561929",
         "66846,4733561929"
        ],
        [
         "896",
         "354850005000778",
         "267",
         "251",
         "251",
         "0",
         "1,6",
         "0,1890",
         "164",
         "0,003276285979788",
         "81494,7173864465",
         "81494,7173864465"
        ],
        [
         "923",
         "354850005000951",
         "117",
         "105",
         "105",
         "0",
         "2,0",
         "0,0500",
         "60",
         "0,00289676050943",
         "40389,945809853",
         "40389,945809853"
        ],
        [
         "951",
         "354850005000806",
         "355",
         "187",
         "187",
         "0",
         "2,1",
         "0,0237",
         "169",
         "0,003576082854033",
         "99270,6306006422",
         "99270,6306006421"
        ],
        [
         "1015",
         "354850005000985",
         "469",
         "263",
         "263",
         "0",
         "2,6",
         "0,1695",
         "177",
         "0,003466318011722",
         "135302,069346779",
         "135302,069346779"
        ],
        [
         "1027",
         "354850005000852",
         "211",
         "219",
         "219",
         "0",
         "1,9",
         "0,0917",
         "109",
         "0,004015765910747",
         "52542,9033189712",
         "52542,9033189712"
        ],
        [
         "1269",
         "354850005000860",
         "296",
         "290",
         "290",
         "0",
         "1,7",
         "0,0805",
         "174",
         "0,005025288103495",
         "58902,0955423704",
         "58902,0955423704"
        ],
        [
         "1333",
         "354850005001022",
         "280",
         "309",
         "309",
         "0",
         "1,8",
         "0,0573",
         "157",
         "0,003586733445904",
         "78065,4610171146",
         "78065,4610171147"
        ],
        [
         "1347",
         "354850005000821",
         "94",
         "91",
         "91",
         "0",
         "1,6",
         "0,1034",
         "58",
         "0,001728434743161",
         "54384,4656976119",
         "54384,4656976119"
        ],
        [
         "1420",
         "354850005000835",
         "204",
         "183",
         "183",
         "0",
         "1,7",
         "0,0413",
         "121",
         "0,004366171195767",
         "46722,858736684",
         "46722,858736684"
        ],
        [
         "1462",
         "354850005000933",
         "421",
         "246",
         "246",
         "0",
         "2,3",
         "0,0856",
         "187",
         "0,005505247643878",
         "76472,4908366592",
         "76472,4908366592"
        ],
        [
         "1484",
         "354850005000978",
         "186",
         "146",
         "146",
         "0",
         "2,3",
         "0,0732",
         "82",
         "0,003137314460492",
         "59286,3744907583",
         "59286,3744907583"
        ],
        [
         "1500",
         "354850005000838",
         "128",
         "130",
         "130",
         "0",
         "1,9",
         "0,0746",
         "67",
         "0,005415394976588",
         "23636,3184132226",
         "23636,3184132226"
        ],
        [
         "1556",
         "354850005000682",
         "395",
         "217",
         "217",
         "0",
         "2,0",
         "0,1888",
         "196",
         "0,002328066910361",
         "169668,662976164",
         "169668,662976164"
        ],
        [
         "1653",
         "354850005000899",
         "273",
         "195",
         "195",
         "0",
         "2,2",
         "0,0720",
         "125",
         "0,002617898572303",
         "104282,115009459",
         "104282,115009459"
        ],
        [
         "1719",
         "354850005000950",
         "111",
         "151",
         "151",
         "0",
         "1,4",
         "0,0390",
         "77",
         "0,003267436018119",
         "33971,5909919793",
         "33971,5909919793"
        ],
        [
         "1721",
         "354850005000509",
         "335",
         "335",
         "335",
         "0",
         "1,6",
         "0,0329",
         "213",
         "0,004536441026734",
         "73846,4355704812",
         "73846,4355704812"
        ],
        [
         "1776",
         "354850005001009",
         "311",
         "133",
         "133",
         "0",
         "2,7",
         "0,0609",
         "115",
         "0,005565708146725",
         "55877,885041996",
         "55877,885041996"
        ],
        [
         "2084",
         "354850005000997",
         "516",
         "217",
         "217",
         "0",
         "2,6",
         "0,2755",
         "196",
         "0,006485436903471",
         "79562,8741255408",
         "79562,8741255408"
        ],
        [
         "2092",
         "354850005000914",
         "560",
         "192",
         "192",
         "0",
         "3,0",
         "0,1330",
         "188",
         "0,005825911062745",
         "96122,3049869464",
         "96122,3049869464"
        ],
        [
         "2107",
         "354850005001199",
         "183",
         "71",
         "71",
         "0",
         "2,8",
         "0,0758",
         "66",
         "0,005795941216013",
         "31573,8191916799",
         "31573,8191916799"
        ],
        [
         "2157",
         "354850005000941",
         "268",
         "209",
         "209",
         "0",
         "1,8",
         "0,0533",
         "150",
         "0,006325617449008",
         "42367,4055790441",
         "42367,4055790441"
        ],
        [
         "2201",
         "354850005001288",
         "465",
         "236",
         "236",
         "0",
         "2,5",
         "0,0324",
         "185",
         "0,006215739529944",
         "74810,0845860556",
         "74810,0845860556"
        ],
        [
         "2218",
         "354850005000779",
         "181",
         "225",
         "225",
         "0",
         "1,4",
         "0,0160",
         "125",
         "0,00226845289579",
         "79790,0632346901",
         "79790,0632346901"
        ],
        [
         "2272",
         "354850005000502",
         "360",
         "283",
         "283",
         "0",
         "1,8",
         "0,1133",
         "203",
         "0,004686855944818",
         "76810,5536501569",
         "76810,5536501569"
        ],
        [
         "2277",
         "354850005001265",
         "208",
         "293",
         "293",
         "0",
         "1,6",
         "0,0469",
         "128",
         "0,003707514526363",
         "56102,2751282499",
         "56102,2751282499"
        ],
        [
         "2339",
         "354850005001138",
         "285",
         "142",
         "142",
         "0",
         "2,8",
         "0,1262",
         "103",
         "0,005886123623995",
         "48418,9626663951",
         "48418,9626663951"
        ],
        [
         "2416",
         "354850005000620",
         "340",
         "314",
         "314",
         "0",
         "2,2",
         "0,2727",
         "154",
         "0,003997420910667",
         "85054,8410082911",
         "85054,8410082911"
        ],
        [
         "2440",
         "354850005001348",
         "152",
         "56",
         "56",
         "0",
         "2,8",
         "0,1111",
         "54",
         "0,007345291629803",
         "20693,5282709907",
         "20693,5282709907"
        ],
        [
         "2847",
         "354850005000862",
         "259",
         "245",
         "245",
         "0",
         "1,9",
         "0,0451",
         "133",
         "0,006286342400094",
         "41200,4284074834",
         "41200,4284074834"
        ],
        [
         "2849",
         "354850005000986",
         "437",
         "263",
         "263",
         "0",
         "2,6",
         "0,0473",
         "169",
         "0,005456826762843",
         "80083,172692168",
         "80083,172692168"
        ],
        [
         "2861",
         "354850005001106",
         "388",
         "247",
         "247",
         "0",
         "2,2",
         "0,1023",
         "176",
         "0,006306345485453",
         "61525,3320476985",
         "61525,3320476985"
        ],
        [
         "2906",
         "354850005000994",
         "194",
         "143",
         "143",
         "0",
         "2,2",
         "0,1724",
         "87",
         "0,006446298394993",
         "30094,7905468795",
         "30094,7905468795"
        ],
        [
         "2924",
         "354850005001257",
         "42",
         "21",
         "21",
         "0",
         "2,6",
         "0,0625",
         "16",
         "0,006916044776385",
         "6072,83517645953",
         "6072,83517645953"
        ],
        [
         "3001",
         "354850005000273",
         "709",
         "288",
         "288",
         "0",
         "2,6",
         "0,0686",
         "277",
         "0,008605166457132",
         "82392,363184605",
         "82392,363184605"
        ],
        [
         "3012",
         "354850005001242",
         "368",
         "154",
         "154",
         "0",
         "2,6",
         "0,1206",
         "141",
         "0,003837848100264",
         "95887,0675404495",
         "95887,0675404495"
        ],
        [
         "3040",
         "354850005000848",
         "234",
         "141",
         "141",
         "0",
         "2,2",
         "0,0381",
         "105",
         "0,005986660828644",
         "39086,8978045983",
         "39086,8978045983"
        ],
        [
         "3218",
         "354850005001064",
         "805",
         "300",
         "300",
         "0",
         "2,7",
         "0,2500",
         "296",
         "0,00760591055245",
         "105838,741390496",
         "105838,741390496"
        ],
        [
         "3223",
         "354850005001286",
         "467",
         "200",
         "200",
         "0",
         "2,6",
         "0,0333",
         "180",
         "0,008455460095222",
         "55230,5841126128",
         "55230,5841126128"
        ],
        [
         "3277",
         "354850005000864",
         "250",
         "176",
         "176",
         "0",
         "2,0",
         "0,1048",
         "124",
         "0,005167261370287",
         "48381,5278703648",
         "48381,5278703648"
        ]
       ],
       "shape": {
        "columns": 11,
        "rows": 1026
       }
      },
      "text/html": [
       "<div>\n",
       "<style scoped>\n",
       "    .dataframe tbody tr th:only-of-type {\n",
       "        vertical-align: middle;\n",
       "    }\n",
       "\n",
       "    .dataframe tbody tr th {\n",
       "        vertical-align: top;\n",
       "    }\n",
       "\n",
       "    .dataframe thead th {\n",
       "        text-align: right;\n",
       "    }\n",
       "</style>\n",
       "<table border=\"1\" class=\"dataframe\">\n",
       "  <thead>\n",
       "    <tr style=\"text-align: right;\">\n",
       "      <th></th>\n",
       "      <th>CD_SETOR</th>\n",
       "      <th>TOTAL_PESSOAS</th>\n",
       "      <th>TOTAL_DOMICILIOS</th>\n",
       "      <th>TOTAL_DOMICILIOS_PARTICULARES</th>\n",
       "      <th>TOTAL_DOMICILIOS_COLETIVOS</th>\n",
       "      <th>MEDIA_MORADORES_DOM_PART_OCUPADOS</th>\n",
       "      <th>PERCENT_DOM_PART_OCUPADOS_IMPUTADOS</th>\n",
       "      <th>TOTAL_DOMICILIOS_PART_OCUPADOS</th>\n",
       "      <th>AREA_DOMICILIADA_KM2</th>\n",
       "      <th>DENSIDADE_DEMOGRAFICA_DOMICILIADA_HAB_KM2</th>\n",
       "      <th>DENSIDADE_DEMOGRAFICA_SETOR_HAB_KM2</th>\n",
       "    </tr>\n",
       "  </thead>\n",
       "  <tbody>\n",
       "    <tr>\n",
       "      <th>39</th>\n",
       "      <td>354850005000608</td>\n",
       "      <td>19</td>\n",
       "      <td>1</td>\n",
       "      <td>0</td>\n",
       "      <td>1</td>\n",
       "      <td>0,0</td>\n",
       "      <td>0,0000</td>\n",
       "      <td>0</td>\n",
       "      <td>0,000536300719085</td>\n",
       "      <td>35427,8846249107</td>\n",
       "      <td>35427,8846249107</td>\n",
       "    </tr>\n",
       "    <tr>\n",
       "      <th>191</th>\n",
       "      <td>354850005001269</td>\n",
       "      <td>250</td>\n",
       "      <td>272</td>\n",
       "      <td>272</td>\n",
       "      <td>0</td>\n",
       "      <td>1,7</td>\n",
       "      <td>0,1000</td>\n",
       "      <td>150</td>\n",
       "      <td>0,001636040257139</td>\n",
       "      <td>152807,975787334</td>\n",
       "      <td>152807,975787334</td>\n",
       "    </tr>\n",
       "    <tr>\n",
       "      <th>259</th>\n",
       "      <td>354850005000925</td>\n",
       "      <td>143</td>\n",
       "      <td>113</td>\n",
       "      <td>113</td>\n",
       "      <td>0</td>\n",
       "      <td>1,9</td>\n",
       "      <td>0,0135</td>\n",
       "      <td>74</td>\n",
       "      <td>0,001616583817133</td>\n",
       "      <td>88458,1414736722</td>\n",
       "      <td>88458,1414736722</td>\n",
       "    </tr>\n",
       "    <tr>\n",
       "      <th>331</th>\n",
       "      <td>354850005000673</td>\n",
       "      <td>229</td>\n",
       "      <td>156</td>\n",
       "      <td>156</td>\n",
       "      <td>0</td>\n",
       "      <td>2,0</td>\n",
       "      <td>0,0614</td>\n",
       "      <td>114</td>\n",
       "      <td>0,001926446114673</td>\n",
       "      <td>118871,739134459</td>\n",
       "      <td>118871,739134459</td>\n",
       "    </tr>\n",
       "    <tr>\n",
       "      <th>373</th>\n",
       "      <td>354850005000908</td>\n",
       "      <td>163</td>\n",
       "      <td>194</td>\n",
       "      <td>194</td>\n",
       "      <td>0</td>\n",
       "      <td>1,9</td>\n",
       "      <td>0,0115</td>\n",
       "      <td>87</td>\n",
       "      <td>0,002276107717276</td>\n",
       "      <td>71613,4824212428</td>\n",
       "      <td>71613,4824212428</td>\n",
       "    </tr>\n",
       "    <tr>\n",
       "      <th>...</th>\n",
       "      <td>...</td>\n",
       "      <td>...</td>\n",
       "      <td>...</td>\n",
       "      <td>...</td>\n",
       "      <td>...</td>\n",
       "      <td>...</td>\n",
       "      <td>...</td>\n",
       "      <td>...</td>\n",
       "      <td>...</td>\n",
       "      <td>...</td>\n",
       "      <td>...</td>\n",
       "    </tr>\n",
       "    <tr>\n",
       "      <th>353523</th>\n",
       "      <td>354850005000036</td>\n",
       "      <td>0</td>\n",
       "      <td>0</td>\n",
       "      <td>0</td>\n",
       "      <td>0</td>\n",
       "      <td>0,0</td>\n",
       "      <td>0,0000</td>\n",
       "      <td>0</td>\n",
       "      <td>0,1331</td>\n",
       "      <td>0</td>\n",
       "      <td>0</td>\n",
       "    </tr>\n",
       "    <tr>\n",
       "      <th>354199</th>\n",
       "      <td>354850005000604</td>\n",
       "      <td>0</td>\n",
       "      <td>0</td>\n",
       "      <td>0</td>\n",
       "      <td>0</td>\n",
       "      <td>0,0</td>\n",
       "      <td>0,0000</td>\n",
       "      <td>0</td>\n",
       "      <td>0,03356</td>\n",
       "      <td>0</td>\n",
       "      <td>0</td>\n",
       "    </tr>\n",
       "    <tr>\n",
       "      <th>354754</th>\n",
       "      <td>354850005000659</td>\n",
       "      <td>0</td>\n",
       "      <td>0</td>\n",
       "      <td>0</td>\n",
       "      <td>0</td>\n",
       "      <td>0,0</td>\n",
       "      <td>0,0000</td>\n",
       "      <td>0</td>\n",
       "      <td>0,02415</td>\n",
       "      <td>0</td>\n",
       "      <td>0</td>\n",
       "    </tr>\n",
       "    <tr>\n",
       "      <th>354934</th>\n",
       "      <td>354850005000218</td>\n",
       "      <td>0</td>\n",
       "      <td>0</td>\n",
       "      <td>0</td>\n",
       "      <td>0</td>\n",
       "      <td>0,0</td>\n",
       "      <td>0,0000</td>\n",
       "      <td>0</td>\n",
       "      <td>0</td>\n",
       "      <td>NaN</td>\n",
       "      <td>0</td>\n",
       "    </tr>\n",
       "    <tr>\n",
       "      <th>354935</th>\n",
       "      <td>354850005001361</td>\n",
       "      <td>0</td>\n",
       "      <td>0</td>\n",
       "      <td>0</td>\n",
       "      <td>0</td>\n",
       "      <td>0,0</td>\n",
       "      <td>0,0000</td>\n",
       "      <td>0</td>\n",
       "      <td>0</td>\n",
       "      <td>NaN</td>\n",
       "      <td>0</td>\n",
       "    </tr>\n",
       "  </tbody>\n",
       "</table>\n",
       "<p>1026 rows × 11 columns</p>\n",
       "</div>"
      ],
      "text/plain": [
       "               CD_SETOR  TOTAL_PESSOAS  TOTAL_DOMICILIOS  \\\n",
       "39      354850005000608             19                 1   \n",
       "191     354850005001269            250               272   \n",
       "259     354850005000925            143               113   \n",
       "331     354850005000673            229               156   \n",
       "373     354850005000908            163               194   \n",
       "...                 ...            ...               ...   \n",
       "353523  354850005000036              0                 0   \n",
       "354199  354850005000604              0                 0   \n",
       "354754  354850005000659              0                 0   \n",
       "354934  354850005000218              0                 0   \n",
       "354935  354850005001361              0                 0   \n",
       "\n",
       "        TOTAL_DOMICILIOS_PARTICULARES  TOTAL_DOMICILIOS_COLETIVOS  \\\n",
       "39                                  0                           1   \n",
       "191                               272                           0   \n",
       "259                               113                           0   \n",
       "331                               156                           0   \n",
       "373                               194                           0   \n",
       "...                               ...                         ...   \n",
       "353523                              0                           0   \n",
       "354199                              0                           0   \n",
       "354754                              0                           0   \n",
       "354934                              0                           0   \n",
       "354935                              0                           0   \n",
       "\n",
       "       MEDIA_MORADORES_DOM_PART_OCUPADOS PERCENT_DOM_PART_OCUPADOS_IMPUTADOS  \\\n",
       "39                                   0,0                              0,0000   \n",
       "191                                  1,7                              0,1000   \n",
       "259                                  1,9                              0,0135   \n",
       "331                                  2,0                              0,0614   \n",
       "373                                  1,9                              0,0115   \n",
       "...                                  ...                                 ...   \n",
       "353523                               0,0                              0,0000   \n",
       "354199                               0,0                              0,0000   \n",
       "354754                               0,0                              0,0000   \n",
       "354934                               0,0                              0,0000   \n",
       "354935                               0,0                              0,0000   \n",
       "\n",
       "        TOTAL_DOMICILIOS_PART_OCUPADOS AREA_DOMICILIADA_KM2  \\\n",
       "39                                   0    0,000536300719085   \n",
       "191                                150    0,001636040257139   \n",
       "259                                 74    0,001616583817133   \n",
       "331                                114    0,001926446114673   \n",
       "373                                 87    0,002276107717276   \n",
       "...                                ...                  ...   \n",
       "353523                               0               0,1331   \n",
       "354199                               0              0,03356   \n",
       "354754                               0              0,02415   \n",
       "354934                               0                    0   \n",
       "354935                               0                    0   \n",
       "\n",
       "       DENSIDADE_DEMOGRAFICA_DOMICILIADA_HAB_KM2  \\\n",
       "39                              35427,8846249107   \n",
       "191                             152807,975787334   \n",
       "259                             88458,1414736722   \n",
       "331                             118871,739134459   \n",
       "373                             71613,4824212428   \n",
       "...                                          ...   \n",
       "353523                                         0   \n",
       "354199                                         0   \n",
       "354754                                         0   \n",
       "354934                                       NaN   \n",
       "354935                                       NaN   \n",
       "\n",
       "       DENSIDADE_DEMOGRAFICA_SETOR_HAB_KM2  \n",
       "39                        35427,8846249107  \n",
       "191                       152807,975787334  \n",
       "259                       88458,1414736722  \n",
       "331                       118871,739134459  \n",
       "373                       71613,4824212428  \n",
       "...                                    ...  \n",
       "353523                                   0  \n",
       "354199                                   0  \n",
       "354754                                   0  \n",
       "354934                                   0  \n",
       "354935                                   0  \n",
       "\n",
       "[1026 rows x 11 columns]"
      ]
     },
     "execution_count": 39,
     "metadata": {},
     "output_type": "execute_result"
    }
   ],
   "source": [
    "data_pop"
   ]
  },
  {
   "cell_type": "code",
   "execution_count": 24,
   "id": "16ac6c10",
   "metadata": {},
   "outputs": [
    {
     "data": {
      "text/plain": [
       "((1026, 11),\n",
       " Index(['CD_SETOR', 'TOTAL_PESSOAS', 'TOTAL_DOMICILIOS',\n",
       "        'TOTAL_DOMICILIOS_PARTICULARES', 'TOTAL_DOMICILIOS_COLETIVOS',\n",
       "        'MEDIA_MORADORES_DOM_PART_OCUPADOS',\n",
       "        'PERCENT_DOM_PART_OCUPADOS_IMPUTADOS', 'TOTAL_DOMICILIOS_PART_OCUPADOS',\n",
       "        'AREA_DOMICILIADA_KM2', 'DENSIDADE_DEMOGRAFICA_DOMICILIADA_HAB_KM2',\n",
       "        'DENSIDADE_DEMOGRAFICA_SETOR_HAB_KM2'],\n",
       "       dtype='object'))"
      ]
     },
     "execution_count": 24,
     "metadata": {},
     "output_type": "execute_result"
    }
   ],
   "source": [
    "data_pop.shape, data_pop.columns"
   ]
  },
  {
   "cell_type": "code",
   "execution_count": 25,
   "id": "999671cd",
   "metadata": {},
   "outputs": [
    {
     "data": {
      "application/vnd.microsoft.datawrangler.viewer.v0+json": {
       "columns": [
        {
         "name": "index",
         "rawType": "int64",
         "type": "integer"
        },
        {
         "name": "DENSIDADE_DEMOGRAFICA_SETOR_HAB_KM2",
         "rawType": "float64",
         "type": "float"
        }
       ],
       "ref": "4a1b3d41-d0a9-4ea6-b085-638e9b1585f4",
       "rows": [
        [
         "39",
         "35427.8846249107"
        ],
        [
         "191",
         "152807.975787334"
        ],
        [
         "259",
         "88458.1414736722"
        ]
       ],
       "shape": {
        "columns": 1,
        "rows": 3
       }
      },
      "text/plain": [
       "39      35427.884625\n",
       "191    152807.975787\n",
       "259     88458.141474\n",
       "Name: DENSIDADE_DEMOGRAFICA_SETOR_HAB_KM2, dtype: float64"
      ]
     },
     "execution_count": 25,
     "metadata": {},
     "output_type": "execute_result"
    }
   ],
   "source": [
    "# Trocando valores vazios e vírgulas por ponto para converter para float\n",
    "for col in data_pop.columns:\n",
    "    if type(data_pop[col].iloc[0]) == str:\n",
    "        data_pop[col] = (\n",
    "            data_pop[col]\n",
    "            .replace('', '0')\n",
    "            .str.replace(',', '.', regex=False)\n",
    "            .astype(float)\n",
    "        )\n",
    "\n",
    "data_pop['DENSIDADE_DEMOGRAFICA_SETOR_HAB_KM2'].head(3)"
   ]
  },
  {
   "cell_type": "code",
   "execution_count": null,
   "id": "78fc8ad4",
   "metadata": {},
   "outputs": [],
   "source": [
    "data_pop.to_csv('dados/populacao_santos.csv', index=False)"
   ]
  },
  {
   "cell_type": "markdown",
   "id": "17408842",
   "metadata": {},
   "source": [
    "## Dataset de Logradouros"
   ]
  },
  {
   "cell_type": "code",
   "execution_count": 152,
   "id": "c32fa5b6",
   "metadata": {},
   "outputs": [],
   "source": [
    "import pandas as pd \n",
    "import numpy as np \n",
    "import psycopg\n",
    "from autocorrect import Speller\n",
    "\n",
    "data_log = pd.read_csv('qgis/logradouros/logradouros.csv')"
   ]
  },
  {
   "cell_type": "code",
   "execution_count": 153,
   "id": "28364a26",
   "metadata": {},
   "outputs": [],
   "source": [
    "data_log = data_log.rename(columns={\n",
    "    'CD_SETOR': 'setor', 'CD_QUADRA': 'quadra', 'CD_FACE': 'face', 'NM_TIP_LOG': 'tipo_logradouro', \n",
    "    'NM_TIT_LOG': 'titulo_logradouro', 'NM_LOG': 'logradouro', 'TOT_RES': 'total_residencias', \n",
    "    'TOT_GERAL': 'total_geral'})"
   ]
  },
  {
   "cell_type": "code",
   "execution_count": 154,
   "id": "5bd98e7d",
   "metadata": {},
   "outputs": [],
   "source": [
    "# No QGIS, algumas linhas de logradouro estão com valores ausentes, pois elas existem apenas como \n",
    "# geometria visual para ilustrar as ruas. Elas serão removidas, pois não contêm informações relevantes para o BD.\n",
    "data_log = data_log.dropna(subset=['tipo_logradouro'])"
   ]
  },
  {
   "cell_type": "code",
   "execution_count": 155,
   "id": "f0e46a0f",
   "metadata": {},
   "outputs": [],
   "source": [
    "# Criando uma coluna concatenada de logradouro para facilitar a minha vida no SQL.\n",
    "data_log['logradouro_completo'] = None\n",
    "\n",
    "for index, row in data_log.iterrows():\n",
    "    if pd.isna(row.titulo_logradouro):\n",
    "        logradouro_completo = f\"{row.tipo_logradouro} {row.logradouro}\"\n",
    "    else:\n",
    "        logradouro_completo = f\"{row.tipo_logradouro} {row.titulo_logradouro} {row.logradouro}\"\n",
    "    data_log.loc[index, 'logradouro_completo'] = logradouro_completo\n"
   ]
  },
  {
   "cell_type": "code",
   "execution_count": 156,
   "id": "8d2d0aa1",
   "metadata": {},
   "outputs": [
    {
     "data": {
      "application/vnd.microsoft.datawrangler.viewer.v0+json": {
       "columns": [
        {
         "name": "index",
         "rawType": "int64",
         "type": "integer"
        },
        {
         "name": "logradouro_completo",
         "rawType": "object",
         "type": "string"
        }
       ],
       "ref": "e319f206-1ffc-4243-8d1f-9544e23a16c5",
       "rows": [
        [
         "10577",
         "AVENIDA AFONSO SCHMIDT"
        ],
        [
         "10086",
         "RUA BOLIVIA"
        ],
        [
         "9566",
         "RUA TEIXEIRA DE FREITAS"
        ],
        [
         "4998",
         "RUA DOUTOR CYRO DE ATHAYDE CARNEIRO"
        ],
        [
         "1846",
         "AVENIDA SENADOR FEIJO"
        ],
        [
         "7851",
         "RUA PADRE ANCHIETA"
        ],
        [
         "13244",
         "RUA DOM PEDRO II"
        ],
        [
         "13288",
         "RUA FREI CANECA"
        ],
        [
         "1399",
         "RUA QUATRO"
        ],
        [
         "2920",
         "AVENIDA AFFONSO PENNA"
        ]
       ],
       "shape": {
        "columns": 1,
        "rows": 10
       }
      },
      "text/plain": [
       "10577                 AVENIDA AFONSO SCHMIDT\n",
       "10086                            RUA BOLIVIA\n",
       "9566                 RUA TEIXEIRA DE FREITAS\n",
       "4998     RUA DOUTOR CYRO DE ATHAYDE CARNEIRO\n",
       "1846                   AVENIDA SENADOR FEIJO\n",
       "7851                      RUA PADRE ANCHIETA\n",
       "13244                       RUA DOM PEDRO II\n",
       "13288                        RUA FREI CANECA\n",
       "1399                              RUA QUATRO\n",
       "2920                   AVENIDA AFFONSO PENNA\n",
       "Name: logradouro_completo, dtype: object"
      ]
     },
     "execution_count": 156,
     "metadata": {},
     "output_type": "execute_result"
    }
   ],
   "source": [
    "data_log['logradouro_completo'].sample(10)"
   ]
  },
  {
   "cell_type": "code",
   "execution_count": 157,
   "id": "79b5cbdf",
   "metadata": {},
   "outputs": [
    {
     "data": {
      "application/vnd.microsoft.datawrangler.viewer.v0+json": {
       "columns": [
        {
         "name": "index",
         "rawType": "int64",
         "type": "integer"
        },
        {
         "name": "setor",
         "rawType": "object",
         "type": "string"
        },
        {
         "name": "quadra",
         "rawType": "float64",
         "type": "float"
        },
        {
         "name": "face",
         "rawType": "float64",
         "type": "float"
        },
        {
         "name": "tipo_logradouro",
         "rawType": "object",
         "type": "string"
        },
        {
         "name": "titulo_logradouro",
         "rawType": "object",
         "type": "unknown"
        },
        {
         "name": "logradouro",
         "rawType": "object",
         "type": "string"
        },
        {
         "name": "total_residencias",
         "rawType": "float64",
         "type": "float"
        },
        {
         "name": "total_geral",
         "rawType": "float64",
         "type": "float"
        },
        {
         "name": "logradouro_completo",
         "rawType": "object",
         "type": "string"
        }
       ],
       "ref": "55a7e720-2ba1-4847-9555-fea03378892c",
       "rows": [
        [
         "0",
         "354850005000003P",
         "1.0",
         "1.0",
         "RUA",
         "VISCONDE",
         "DO RIO BRANCO",
         "11.0",
         "22.0",
         "RUA VISCONDE DO RIO BRANCO"
        ],
        [
         "1",
         "354850005000003P",
         "1.0",
         "2.0",
         "RUA",
         null,
         "DA CONSTITUICAO",
         "14.0",
         "18.0",
         "RUA DA CONSTITUICAO"
        ],
        [
         "2",
         "354850005000003P",
         "1.0",
         "3.0",
         "RUA",
         "GENERAL",
         "CAMARA",
         "5.0",
         "27.0",
         "RUA GENERAL CAMARA"
        ],
        [
         "3",
         "354850005000003P",
         "1.0",
         "4.0",
         "RUA",
         null,
         "BRAZ CUBAS",
         "3.0",
         "17.0",
         "RUA BRAZ CUBAS"
        ],
        [
         "4",
         "354850005000003P",
         "2.0",
         "1.0",
         "RUA",
         "GENERAL",
         "CAMARA",
         "10.0",
         "33.0",
         "RUA GENERAL CAMARA"
        ]
       ],
       "shape": {
        "columns": 9,
        "rows": 5
       }
      },
      "text/html": [
       "<div>\n",
       "<style scoped>\n",
       "    .dataframe tbody tr th:only-of-type {\n",
       "        vertical-align: middle;\n",
       "    }\n",
       "\n",
       "    .dataframe tbody tr th {\n",
       "        vertical-align: top;\n",
       "    }\n",
       "\n",
       "    .dataframe thead th {\n",
       "        text-align: right;\n",
       "    }\n",
       "</style>\n",
       "<table border=\"1\" class=\"dataframe\">\n",
       "  <thead>\n",
       "    <tr style=\"text-align: right;\">\n",
       "      <th></th>\n",
       "      <th>setor</th>\n",
       "      <th>quadra</th>\n",
       "      <th>face</th>\n",
       "      <th>tipo_logradouro</th>\n",
       "      <th>titulo_logradouro</th>\n",
       "      <th>logradouro</th>\n",
       "      <th>total_residencias</th>\n",
       "      <th>total_geral</th>\n",
       "      <th>logradouro_completo</th>\n",
       "    </tr>\n",
       "  </thead>\n",
       "  <tbody>\n",
       "    <tr>\n",
       "      <th>0</th>\n",
       "      <td>354850005000003P</td>\n",
       "      <td>1.0</td>\n",
       "      <td>1.0</td>\n",
       "      <td>RUA</td>\n",
       "      <td>VISCONDE</td>\n",
       "      <td>DO RIO BRANCO</td>\n",
       "      <td>11.0</td>\n",
       "      <td>22.0</td>\n",
       "      <td>RUA VISCONDE DO RIO BRANCO</td>\n",
       "    </tr>\n",
       "    <tr>\n",
       "      <th>1</th>\n",
       "      <td>354850005000003P</td>\n",
       "      <td>1.0</td>\n",
       "      <td>2.0</td>\n",
       "      <td>RUA</td>\n",
       "      <td>NaN</td>\n",
       "      <td>DA CONSTITUICAO</td>\n",
       "      <td>14.0</td>\n",
       "      <td>18.0</td>\n",
       "      <td>RUA DA CONSTITUICAO</td>\n",
       "    </tr>\n",
       "    <tr>\n",
       "      <th>2</th>\n",
       "      <td>354850005000003P</td>\n",
       "      <td>1.0</td>\n",
       "      <td>3.0</td>\n",
       "      <td>RUA</td>\n",
       "      <td>GENERAL</td>\n",
       "      <td>CAMARA</td>\n",
       "      <td>5.0</td>\n",
       "      <td>27.0</td>\n",
       "      <td>RUA GENERAL CAMARA</td>\n",
       "    </tr>\n",
       "    <tr>\n",
       "      <th>3</th>\n",
       "      <td>354850005000003P</td>\n",
       "      <td>1.0</td>\n",
       "      <td>4.0</td>\n",
       "      <td>RUA</td>\n",
       "      <td>NaN</td>\n",
       "      <td>BRAZ CUBAS</td>\n",
       "      <td>3.0</td>\n",
       "      <td>17.0</td>\n",
       "      <td>RUA BRAZ CUBAS</td>\n",
       "    </tr>\n",
       "    <tr>\n",
       "      <th>4</th>\n",
       "      <td>354850005000003P</td>\n",
       "      <td>2.0</td>\n",
       "      <td>1.0</td>\n",
       "      <td>RUA</td>\n",
       "      <td>GENERAL</td>\n",
       "      <td>CAMARA</td>\n",
       "      <td>10.0</td>\n",
       "      <td>33.0</td>\n",
       "      <td>RUA GENERAL CAMARA</td>\n",
       "    </tr>\n",
       "  </tbody>\n",
       "</table>\n",
       "</div>"
      ],
      "text/plain": [
       "              setor  quadra  face tipo_logradouro titulo_logradouro  \\\n",
       "0  354850005000003P     1.0   1.0             RUA          VISCONDE   \n",
       "1  354850005000003P     1.0   2.0             RUA               NaN   \n",
       "2  354850005000003P     1.0   3.0             RUA           GENERAL   \n",
       "3  354850005000003P     1.0   4.0             RUA               NaN   \n",
       "4  354850005000003P     2.0   1.0             RUA           GENERAL   \n",
       "\n",
       "        logradouro  total_residencias  total_geral         logradouro_completo  \n",
       "0    DO RIO BRANCO               11.0         22.0  RUA VISCONDE DO RIO BRANCO  \n",
       "1  DA CONSTITUICAO               14.0         18.0         RUA DA CONSTITUICAO  \n",
       "2           CAMARA                5.0         27.0          RUA GENERAL CAMARA  \n",
       "3       BRAZ CUBAS                3.0         17.0              RUA BRAZ CUBAS  \n",
       "4           CAMARA               10.0         33.0          RUA GENERAL CAMARA  "
      ]
     },
     "execution_count": 157,
     "metadata": {},
     "output_type": "execute_result"
    }
   ],
   "source": [
    "data_log.head()"
   ]
  },
  {
   "cell_type": "code",
   "execution_count": 158,
   "id": "21d33287",
   "metadata": {},
   "outputs": [
    {
     "data": {
      "application/vnd.microsoft.datawrangler.viewer.v0+json": {
       "columns": [
        {
         "name": "index",
         "rawType": "object",
         "type": "string"
        },
        {
         "name": "0",
         "rawType": "int64",
         "type": "integer"
        }
       ],
       "ref": "b03bfee9-da2e-494a-8e9c-eac9ed5ad466",
       "rows": [
        [
         "setor",
         "0"
        ],
        [
         "quadra",
         "0"
        ],
        [
         "face",
         "0"
        ],
        [
         "tipo_logradouro",
         "0"
        ],
        [
         "titulo_logradouro",
         "6038"
        ],
        [
         "logradouro",
         "0"
        ],
        [
         "total_residencias",
         "0"
        ],
        [
         "total_geral",
         "0"
        ],
        [
         "logradouro_completo",
         "0"
        ]
       ],
       "shape": {
        "columns": 1,
        "rows": 9
       }
      },
      "text/plain": [
       "setor                     0\n",
       "quadra                    0\n",
       "face                      0\n",
       "tipo_logradouro           0\n",
       "titulo_logradouro      6038\n",
       "logradouro                0\n",
       "total_residencias         0\n",
       "total_geral               0\n",
       "logradouro_completo       0\n",
       "dtype: int64"
      ]
     },
     "execution_count": 158,
     "metadata": {},
     "output_type": "execute_result"
    }
   ],
   "source": [
    "data_log.isna().sum()"
   ]
  },
  {
   "cell_type": "code",
   "execution_count": 159,
   "id": "cfecc00d",
   "metadata": {},
   "outputs": [],
   "source": [
    "for index, row in data_log.iterrows():\n",
    "    data_log.loc[index, 'setor'] = row['setor'].replace('P', '')\n",
    "data_log['setor'] = data_log['setor'].astype(int, errors='ignore')"
   ]
  },
  {
   "cell_type": "code",
   "execution_count": 160,
   "id": "d8aebfdc",
   "metadata": {},
   "outputs": [
    {
     "data": {
      "application/vnd.microsoft.datawrangler.viewer.v0+json": {
       "columns": [
        {
         "name": "index",
         "rawType": "int64",
         "type": "integer"
        },
        {
         "name": "setor",
         "rawType": "int64",
         "type": "integer"
        }
       ],
       "ref": "2933bdcf-282d-4186-bc98-d371585d7f84",
       "rows": [
        [
         "0",
         "354850005000003"
        ],
        [
         "1",
         "354850005000003"
        ],
        [
         "2",
         "354850005000003"
        ],
        [
         "3",
         "354850005000003"
        ],
        [
         "4",
         "354850005000003"
        ],
        [
         "5",
         "354850005000003"
        ],
        [
         "6",
         "354850005000003"
        ],
        [
         "7",
         "354850005000003"
        ],
        [
         "8",
         "354850005000003"
        ],
        [
         "9",
         "354850005000003"
        ]
       ],
       "shape": {
        "columns": 1,
        "rows": 10
       }
      },
      "text/plain": [
       "0    354850005000003\n",
       "1    354850005000003\n",
       "2    354850005000003\n",
       "3    354850005000003\n",
       "4    354850005000003\n",
       "5    354850005000003\n",
       "6    354850005000003\n",
       "7    354850005000003\n",
       "8    354850005000003\n",
       "9    354850005000003\n",
       "Name: setor, dtype: int64"
      ]
     },
     "execution_count": 160,
     "metadata": {},
     "output_type": "execute_result"
    }
   ],
   "source": [
    "data_log['setor'].head(10)"
   ]
  },
  {
   "cell_type": "code",
   "execution_count": 161,
   "id": "cb39b202",
   "metadata": {},
   "outputs": [],
   "source": [
    "# data_log = data_log.drop_duplicates(subset=['setor'])"
   ]
  },
  {
   "cell_type": "code",
   "execution_count": 162,
   "id": "89e53782",
   "metadata": {},
   "outputs": [],
   "source": [
    "# data_log['setor_quadra_face'] = data_log['setor'].astype(str) + '_' + data_log['quadra'].astype(int).astype(str) + '_' + data_log['face'].astype(int).astype(str)\n",
    "# data_log['setor_quadra_face'].duplicated().sum()"
   ]
  },
  {
   "cell_type": "code",
   "execution_count": 170,
   "id": "1691bc6a",
   "metadata": {},
   "outputs": [
    {
     "data": {
      "application/vnd.microsoft.datawrangler.viewer.v0+json": {
       "columns": [
        {
         "name": "index",
         "rawType": "int64",
         "type": "integer"
        },
        {
         "name": "setor",
         "rawType": "int64",
         "type": "integer"
        },
        {
         "name": "quadra",
         "rawType": "float64",
         "type": "float"
        },
        {
         "name": "face",
         "rawType": "float64",
         "type": "float"
        },
        {
         "name": "tipo_logradouro",
         "rawType": "object",
         "type": "string"
        },
        {
         "name": "titulo_logradouro",
         "rawType": "object",
         "type": "unknown"
        },
        {
         "name": "logradouro",
         "rawType": "object",
         "type": "string"
        },
        {
         "name": "total_residencias",
         "rawType": "float64",
         "type": "float"
        },
        {
         "name": "total_geral",
         "rawType": "float64",
         "type": "float"
        },
        {
         "name": "logradouro_completo",
         "rawType": "object",
         "type": "string"
        }
       ],
       "ref": "f9879b65-ba23-403c-ab68-28c1703b67ab",
       "rows": [
        [
         "629",
         "354850005000027",
         "1.0",
         "1.0",
         "RUA",
         null,
         "DO ASILO",
         "9.0",
         "9.0",
         "RUA DO ASILO"
        ],
        [
         "630",
         "354850005000027",
         "1.0",
         "2.0",
         "RUA",
         null,
         "F JOSE DOS SANTOS",
         "3.0",
         "3.0",
         "RUA F JOSE DOS SANTOS"
        ],
        [
         "631",
         "354850005000027",
         "1.0",
         "3.0",
         "RUA",
         null,
         "F JOSE DOS SANTOS",
         "11.0",
         "11.0",
         "RUA F JOSE DOS SANTOS"
        ],
        [
         "632",
         "354850005000027",
         "1.0",
         "4.0",
         "RUA",
         null,
         "F JOSE DOS SANTOS",
         "4.0",
         "4.0",
         "RUA F JOSE DOS SANTOS"
        ],
        [
         "633",
         "354850005000027",
         "1.0",
         "5.0",
         "AVENIDA",
         null,
         "BANDEIRANTES",
         "1.0",
         "1.0",
         "AVENIDA BANDEIRANTES"
        ],
        [
         "634",
         "354850005000027",
         "1.0",
         "6.0",
         "RUA",
         null,
         "ANTERO LOUREIRO",
         "4.0",
         "6.0",
         "RUA ANTERO LOUREIRO"
        ],
        [
         "635",
         "354850005000027",
         "1.0",
         "7.0",
         "RUA",
         null,
         "ANTERO LOUREIRO",
         "22.0",
         "22.0",
         "RUA ANTERO LOUREIRO"
        ],
        [
         "636",
         "354850005000027",
         "1.0",
         "8.0",
         "RUA",
         null,
         "ANTERO LOUREIRO",
         "16.0",
         "16.0",
         "RUA ANTERO LOUREIRO"
        ],
        [
         "637",
         "354850005000027",
         "1.0",
         "9.0",
         "RUA",
         null,
         "ANTERO LOUREIRO",
         "1.0",
         "1.0",
         "RUA ANTERO LOUREIRO"
        ],
        [
         "638",
         "354850005000027",
         "1.0",
         "14.0",
         "RUA",
         "SANTA",
         "REGINA",
         "0.0",
         "0.0",
         "RUA SANTA REGINA"
        ],
        [
         "639",
         "354850005000027",
         "2.0",
         "1.0",
         "RUA",
         null,
         "DO ASILO",
         "7.0",
         "10.0",
         "RUA DO ASILO"
        ],
        [
         "640",
         "354850005000027",
         "2.0",
         "2.0",
         "AVENIDA",
         null,
         "BANDEIRANTES",
         "13.0",
         "13.0",
         "AVENIDA BANDEIRANTES"
        ],
        [
         "641",
         "354850005000027",
         "2.0",
         "3.0",
         "RUA",
         null,
         "F JOSE DOS SANTOS",
         "4.0",
         "4.0",
         "RUA F JOSE DOS SANTOS"
        ],
        [
         "642",
         "354850005000027",
         "3.0",
         "2.0",
         "RUA",
         "SANTA",
         "REGINA",
         "19.0",
         "19.0",
         "RUA SANTA REGINA"
        ],
        [
         "643",
         "354850005000027",
         "3.0",
         "3.0",
         "RUA",
         "SANTA",
         "REGINA",
         "14.0",
         "14.0",
         "RUA SANTA REGINA"
        ],
        [
         "644",
         "354850005000027",
         "3.0",
         "5.0",
         "RUA",
         "SANTA",
         "MARLENE",
         "8.0",
         "8.0",
         "RUA SANTA MARLENE"
        ],
        [
         "645",
         "354850005000027",
         "3.0",
         "6.0",
         "RUA",
         "SANTA",
         "JOANA D ARC",
         "8.0",
         "8.0",
         "RUA SANTA JOANA D ARC"
        ],
        [
         "646",
         "354850005000027",
         "3.0",
         "7.0",
         "RUA",
         "SANTA",
         "CECILIA",
         "29.0",
         "35.0",
         "RUA SANTA CECILIA"
        ],
        [
         "647",
         "354850005000027",
         "3.0",
         "8.0",
         "RUA",
         "SAO",
         "CLOVIS",
         "4.0",
         "5.0",
         "RUA SAO CLOVIS"
        ],
        [
         "648",
         "354850005000027",
         "3.0",
         "15.0",
         "RUA",
         "SANTA",
         "REGINA",
         "8.0",
         "8.0",
         "RUA SANTA REGINA"
        ],
        [
         "649",
         "354850005000027",
         "3.0",
         "16.0",
         "RUA",
         "SANTA",
         "REGINA",
         "1.0",
         "1.0",
         "RUA SANTA REGINA"
        ],
        [
         "650",
         "354850005000027",
         "3.0",
         "17.0",
         "AVENIDA",
         null,
         "BANDEIRANTES",
         "5.0",
         "5.0",
         "AVENIDA BANDEIRANTES"
        ],
        [
         "651",
         "354850005000027",
         "5.0",
         "1.0",
         "RUA",
         "SAO",
         "CLOVIS",
         "10.0",
         "11.0",
         "RUA SAO CLOVIS"
        ],
        [
         "652",
         "354850005000027",
         "5.0",
         "4.0",
         "RUA",
         "SAO",
         "CLOVIS",
         "2.0",
         "2.0",
         "RUA SAO CLOVIS"
        ],
        [
         "653",
         "354850005000027",
         "6.0",
         "1.0",
         "RUA",
         "SAO",
         "CLOVIS",
         "14.0",
         "14.0",
         "RUA SAO CLOVIS"
        ],
        [
         "654",
         "354850005000027",
         "7.0",
         "2.0",
         "AVENIDA",
         null,
         "BANDEIRANTES",
         "0.0",
         "0.0",
         "AVENIDA BANDEIRANTES"
        ],
        [
         "655",
         "354850005000027",
         "8.0",
         "1.0",
         "RUA",
         "VISCONDE",
         "DE EMBARE",
         "1.0",
         "3.0",
         "RUA VISCONDE DE EMBARE"
        ],
        [
         "656",
         "354850005000027",
         "8.0",
         "2.0",
         "AVENIDA",
         null,
         "BANDEIRANTES",
         "4.0",
         "5.0",
         "AVENIDA BANDEIRANTES"
        ],
        [
         "673",
         "354850005000029",
         "1.0",
         "1.0",
         "RUA",
         "SANTA",
         "JOANA D ARC",
         "9.0",
         "10.0",
         "RUA SANTA JOANA D ARC"
        ],
        [
         "674",
         "354850005000029",
         "1.0",
         "2.0",
         "RUA",
         "SANTA",
         "LUZIA",
         "15.0",
         "16.0",
         "RUA SANTA LUZIA"
        ],
        [
         "675",
         "354850005000029",
         "1.0",
         "3.0",
         "RUA",
         "SANTA",
         "MERCEDES",
         "3.0",
         "3.0",
         "RUA SANTA MERCEDES"
        ],
        [
         "676",
         "354850005000029",
         "1.0",
         "4.0",
         "RUA",
         "SANTA",
         "MERCEDES",
         "1.0",
         "2.0",
         "RUA SANTA MERCEDES"
        ],
        [
         "677",
         "354850005000029",
         "1.0",
         "5.0",
         "RUA",
         "SANTA",
         "MERCEDES",
         "10.0",
         "10.0",
         "RUA SANTA MERCEDES"
        ],
        [
         "678",
         "354850005000029",
         "1.0",
         "6.0",
         "RUA",
         "SANTA",
         "MARTA",
         "0.0",
         "0.0",
         "RUA SANTA MARTA"
        ],
        [
         "679",
         "354850005000029",
         "2.0",
         "1.0",
         "RUA",
         "SANTA",
         "MERCEDES",
         "2.0",
         "3.0",
         "RUA SANTA MERCEDES"
        ],
        [
         "680",
         "354850005000029",
         "2.0",
         "2.0",
         "RUA",
         "SANTA",
         "MERCEDES",
         "9.0",
         "10.0",
         "RUA SANTA MERCEDES"
        ],
        [
         "681",
         "354850005000029",
         "3.0",
         "1.0",
         "RUA",
         "SANTA",
         "MERCEDES",
         "22.0",
         "22.0",
         "RUA SANTA MERCEDES"
        ],
        [
         "682",
         "354850005000029",
         "3.0",
         "2.0",
         "RUA",
         "SANTA",
         "TEREZA",
         "34.0",
         "34.0",
         "RUA SANTA TEREZA"
        ],
        [
         "683",
         "354850005000029",
         "3.0",
         "3.0",
         "RUA",
         "SANTA",
         "LUZIA",
         "62.0",
         "64.0",
         "RUA SANTA LUZIA"
        ],
        [
         "684",
         "354850005000029",
         "3.0",
         "4.0",
         "RUA",
         "SANTA",
         "VALERIA",
         "22.0",
         "22.0",
         "RUA SANTA VALERIA"
        ],
        [
         "685",
         "354850005000029",
         "4.0",
         "1.0",
         "RUA",
         "SANTA",
         "MERCEDES",
         "4.0",
         "5.0",
         "RUA SANTA MERCEDES"
        ],
        [
         "686",
         "354850005000029",
         "4.0",
         "2.0",
         "RUA",
         "SANTA",
         "MARTA",
         "2.0",
         "2.0",
         "RUA SANTA MARTA"
        ],
        [
         "687",
         "354850005000029",
         "4.0",
         "3.0",
         "RUA",
         "SANTA",
         "MARTA",
         "5.0",
         "5.0",
         "RUA SANTA MARTA"
        ],
        [
         "688",
         "354850005000029",
         "4.0",
         "4.0",
         "RUA",
         "SANTA",
         "MARTA",
         "1.0",
         "1.0",
         "RUA SANTA MARTA"
        ],
        [
         "689",
         "354850005000029",
         "4.0",
         "5.0",
         "RUA",
         "SANTA",
         "MARTA",
         "15.0",
         "15.0",
         "RUA SANTA MARTA"
        ],
        [
         "690",
         "354850005000029",
         "4.0",
         "6.0",
         "RUA",
         "SANTA",
         "VALERIA",
         "8.0",
         "8.0",
         "RUA SANTA VALERIA"
        ],
        [
         "691",
         "354850005000029",
         "4.0",
         "7.0",
         "RUA",
         "SANTA",
         "TEREZA",
         "25.0",
         "25.0",
         "RUA SANTA TEREZA"
        ],
        [
         "692",
         "354850005000029",
         "4.0",
         "8.0",
         "RUA",
         "SANTA",
         "MARTA",
         "1.0",
         "1.0",
         "RUA SANTA MARTA"
        ],
        [
         "693",
         "354850005000029",
         "26.0",
         "1.0",
         "AVENIDA",
         "PRESIDENTE",
         "GETULIO DORNELLES VARGAS",
         "0.0",
         "3.0",
         "AVENIDA PRESIDENTE GETULIO DORNELLES VARGAS"
        ],
        [
         "1291",
         "354850005000064",
         "1.0",
         "1.0",
         "CAMINHO",
         null,
         "SABESP",
         "0.0",
         "0.0",
         "CAMINHO SABESP"
        ]
       ],
       "shape": {
        "columns": 9,
        "rows": 518
       }
      },
      "text/html": [
       "<div>\n",
       "<style scoped>\n",
       "    .dataframe tbody tr th:only-of-type {\n",
       "        vertical-align: middle;\n",
       "    }\n",
       "\n",
       "    .dataframe tbody tr th {\n",
       "        vertical-align: top;\n",
       "    }\n",
       "\n",
       "    .dataframe thead th {\n",
       "        text-align: right;\n",
       "    }\n",
       "</style>\n",
       "<table border=\"1\" class=\"dataframe\">\n",
       "  <thead>\n",
       "    <tr style=\"text-align: right;\">\n",
       "      <th></th>\n",
       "      <th>setor</th>\n",
       "      <th>quadra</th>\n",
       "      <th>face</th>\n",
       "      <th>tipo_logradouro</th>\n",
       "      <th>titulo_logradouro</th>\n",
       "      <th>logradouro</th>\n",
       "      <th>total_residencias</th>\n",
       "      <th>total_geral</th>\n",
       "      <th>logradouro_completo</th>\n",
       "    </tr>\n",
       "  </thead>\n",
       "  <tbody>\n",
       "    <tr>\n",
       "      <th>629</th>\n",
       "      <td>354850005000027</td>\n",
       "      <td>1.0</td>\n",
       "      <td>1.0</td>\n",
       "      <td>RUA</td>\n",
       "      <td>NaN</td>\n",
       "      <td>DO ASILO</td>\n",
       "      <td>9.0</td>\n",
       "      <td>9.0</td>\n",
       "      <td>RUA DO ASILO</td>\n",
       "    </tr>\n",
       "    <tr>\n",
       "      <th>630</th>\n",
       "      <td>354850005000027</td>\n",
       "      <td>1.0</td>\n",
       "      <td>2.0</td>\n",
       "      <td>RUA</td>\n",
       "      <td>NaN</td>\n",
       "      <td>F JOSE DOS SANTOS</td>\n",
       "      <td>3.0</td>\n",
       "      <td>3.0</td>\n",
       "      <td>RUA F JOSE DOS SANTOS</td>\n",
       "    </tr>\n",
       "    <tr>\n",
       "      <th>631</th>\n",
       "      <td>354850005000027</td>\n",
       "      <td>1.0</td>\n",
       "      <td>3.0</td>\n",
       "      <td>RUA</td>\n",
       "      <td>NaN</td>\n",
       "      <td>F JOSE DOS SANTOS</td>\n",
       "      <td>11.0</td>\n",
       "      <td>11.0</td>\n",
       "      <td>RUA F JOSE DOS SANTOS</td>\n",
       "    </tr>\n",
       "    <tr>\n",
       "      <th>632</th>\n",
       "      <td>354850005000027</td>\n",
       "      <td>1.0</td>\n",
       "      <td>4.0</td>\n",
       "      <td>RUA</td>\n",
       "      <td>NaN</td>\n",
       "      <td>F JOSE DOS SANTOS</td>\n",
       "      <td>4.0</td>\n",
       "      <td>4.0</td>\n",
       "      <td>RUA F JOSE DOS SANTOS</td>\n",
       "    </tr>\n",
       "    <tr>\n",
       "      <th>633</th>\n",
       "      <td>354850005000027</td>\n",
       "      <td>1.0</td>\n",
       "      <td>5.0</td>\n",
       "      <td>AVENIDA</td>\n",
       "      <td>NaN</td>\n",
       "      <td>BANDEIRANTES</td>\n",
       "      <td>1.0</td>\n",
       "      <td>1.0</td>\n",
       "      <td>AVENIDA BANDEIRANTES</td>\n",
       "    </tr>\n",
       "    <tr>\n",
       "      <th>...</th>\n",
       "      <td>...</td>\n",
       "      <td>...</td>\n",
       "      <td>...</td>\n",
       "      <td>...</td>\n",
       "      <td>...</td>\n",
       "      <td>...</td>\n",
       "      <td>...</td>\n",
       "      <td>...</td>\n",
       "      <td>...</td>\n",
       "    </tr>\n",
       "    <tr>\n",
       "      <th>12733</th>\n",
       "      <td>354850005001255</td>\n",
       "      <td>7.0</td>\n",
       "      <td>6.0</td>\n",
       "      <td>RUA</td>\n",
       "      <td>NaN</td>\n",
       "      <td>F</td>\n",
       "      <td>7.0</td>\n",
       "      <td>8.0</td>\n",
       "      <td>RUA F</td>\n",
       "    </tr>\n",
       "    <tr>\n",
       "      <th>12734</th>\n",
       "      <td>354850005001255</td>\n",
       "      <td>7.0</td>\n",
       "      <td>7.0</td>\n",
       "      <td>RUA</td>\n",
       "      <td>NaN</td>\n",
       "      <td>F</td>\n",
       "      <td>7.0</td>\n",
       "      <td>8.0</td>\n",
       "      <td>RUA F</td>\n",
       "    </tr>\n",
       "    <tr>\n",
       "      <th>12735</th>\n",
       "      <td>354850005001255</td>\n",
       "      <td>7.0</td>\n",
       "      <td>8.0</td>\n",
       "      <td>RUA</td>\n",
       "      <td>NaN</td>\n",
       "      <td>F</td>\n",
       "      <td>45.0</td>\n",
       "      <td>48.0</td>\n",
       "      <td>RUA F</td>\n",
       "    </tr>\n",
       "    <tr>\n",
       "      <th>12736</th>\n",
       "      <td>354850005001255</td>\n",
       "      <td>7.0</td>\n",
       "      <td>9.0</td>\n",
       "      <td>AVENIDA</td>\n",
       "      <td>NaN</td>\n",
       "      <td>C</td>\n",
       "      <td>0.0</td>\n",
       "      <td>0.0</td>\n",
       "      <td>AVENIDA C</td>\n",
       "    </tr>\n",
       "    <tr>\n",
       "      <th>12737</th>\n",
       "      <td>354850005001255</td>\n",
       "      <td>7.0</td>\n",
       "      <td>10.0</td>\n",
       "      <td>AVENIDA</td>\n",
       "      <td>NaN</td>\n",
       "      <td>C</td>\n",
       "      <td>0.0</td>\n",
       "      <td>6.0</td>\n",
       "      <td>AVENIDA C</td>\n",
       "    </tr>\n",
       "  </tbody>\n",
       "</table>\n",
       "<p>518 rows × 9 columns</p>\n",
       "</div>"
      ],
      "text/plain": [
       "                 setor  quadra  face tipo_logradouro titulo_logradouro  \\\n",
       "629    354850005000027     1.0   1.0             RUA               NaN   \n",
       "630    354850005000027     1.0   2.0             RUA               NaN   \n",
       "631    354850005000027     1.0   3.0             RUA               NaN   \n",
       "632    354850005000027     1.0   4.0             RUA               NaN   \n",
       "633    354850005000027     1.0   5.0         AVENIDA               NaN   \n",
       "...                ...     ...   ...             ...               ...   \n",
       "12733  354850005001255     7.0   6.0             RUA               NaN   \n",
       "12734  354850005001255     7.0   7.0             RUA               NaN   \n",
       "12735  354850005001255     7.0   8.0             RUA               NaN   \n",
       "12736  354850005001255     7.0   9.0         AVENIDA               NaN   \n",
       "12737  354850005001255     7.0  10.0         AVENIDA               NaN   \n",
       "\n",
       "              logradouro  total_residencias  total_geral  \\\n",
       "629             DO ASILO                9.0          9.0   \n",
       "630    F JOSE DOS SANTOS                3.0          3.0   \n",
       "631    F JOSE DOS SANTOS               11.0         11.0   \n",
       "632    F JOSE DOS SANTOS                4.0          4.0   \n",
       "633         BANDEIRANTES                1.0          1.0   \n",
       "...                  ...                ...          ...   \n",
       "12733                  F                7.0          8.0   \n",
       "12734                  F                7.0          8.0   \n",
       "12735                  F               45.0         48.0   \n",
       "12736                  C                0.0          0.0   \n",
       "12737                  C                0.0          6.0   \n",
       "\n",
       "         logradouro_completo  \n",
       "629             RUA DO ASILO  \n",
       "630    RUA F JOSE DOS SANTOS  \n",
       "631    RUA F JOSE DOS SANTOS  \n",
       "632    RUA F JOSE DOS SANTOS  \n",
       "633     AVENIDA BANDEIRANTES  \n",
       "...                      ...  \n",
       "12733                  RUA F  \n",
       "12734                  RUA F  \n",
       "12735                  RUA F  \n",
       "12736              AVENIDA C  \n",
       "12737              AVENIDA C  \n",
       "\n",
       "[518 rows x 9 columns]"
      ]
     },
     "execution_count": 170,
     "metadata": {},
     "output_type": "execute_result"
    }
   ],
   "source": [
    "data_log[~data_log['setor'].isin(data_setores['CD_SETOR'])]"
   ]
  },
  {
   "cell_type": "code",
   "execution_count": 163,
   "id": "af8a4a32",
   "metadata": {},
   "outputs": [],
   "source": [
    "data_log.to_csv('dados/csv tabelas/logradouros_tratados.csv', index=False)"
   ]
  },
  {
   "cell_type": "code",
   "execution_count": 164,
   "id": "53d6562e",
   "metadata": {},
   "outputs": [
    {
     "data": {
      "text/plain": [
       "Index(['setor', 'quadra', 'face', 'tipo_logradouro', 'titulo_logradouro',\n",
       "       'logradouro', 'total_residencias', 'total_geral',\n",
       "       'logradouro_completo'],\n",
       "      dtype='object')"
      ]
     },
     "execution_count": 164,
     "metadata": {},
     "output_type": "execute_result"
    }
   ],
   "source": [
    "data_log.columns"
   ]
  },
  {
   "cell_type": "markdown",
   "id": "679b67a0",
   "metadata": {},
   "source": [
    "## GeoJSON de setores"
   ]
  },
  {
   "cell_type": "code",
   "execution_count": 1,
   "id": "bdc0290a",
   "metadata": {},
   "outputs": [],
   "source": [
    "import json"
   ]
  },
  {
   "cell_type": "code",
   "execution_count": null,
   "id": "f72ed797",
   "metadata": {},
   "outputs": [],
   "source": [
    "with open(\"dados/setores.geojson\", \"r\", encoding=\"utf-8\") as f:\n",
    "    geojson_setores = json.load(f)\n",
    "\n",
    "geojson_setores[\"features\"] = [\n",
    "    feature\n",
    "    for feature in geojson_setores[\"features\"]\n",
    "    if feature[\"properties\"][\"NM_MUN\"] == \"Santos\"\n",
    "]\n",
    "\n",
    "with open(\"dados/setores_santos.geojson\", \"w\", encoding=\"utf-8\") as f:\n",
    "    json.dump(geojson_setores, f, ensure_ascii=False, indent=4)\n"
   ]
  }
 ],
 "metadata": {
  "kernelspec": {
   "display_name": ".venv",
   "language": "python",
   "name": "python3"
  },
  "language_info": {
   "codemirror_mode": {
    "name": "ipython",
    "version": 3
   },
   "file_extension": ".py",
   "mimetype": "text/x-python",
   "name": "python",
   "nbconvert_exporter": "python",
   "pygments_lexer": "ipython3",
   "version": "3.12.3"
  }
 },
 "nbformat": 4,
 "nbformat_minor": 5
}
